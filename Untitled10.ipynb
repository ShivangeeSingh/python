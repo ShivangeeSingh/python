{
  "nbformat": 4,
  "nbformat_minor": 0,
  "metadata": {
    "colab": {
      "name": "Untitled10.ipynb",
      "version": "0.3.2",
      "provenance": [],
      "include_colab_link": true
    },
    "kernelspec": {
      "name": "python3",
      "display_name": "Python 3"
    }
  },
  "cells": [
    {
      "cell_type": "markdown",
      "metadata": {
        "id": "view-in-github",
        "colab_type": "text"
      },
      "source": [
        "<a href=\"https://colab.research.google.com/github/ShivangeeSingh/python/blob/master/Untitled10.ipynb\" target=\"_parent\"><img src=\"https://colab.research.google.com/assets/colab-badge.svg\" alt=\"Open In Colab\"/></a>"
      ]
    },
    {
      "cell_type": "code",
      "metadata": {
        "id": "BN2BQZgEVtxj",
        "colab_type": "code",
        "colab": {
          "base_uri": "https://localhost:8080/",
          "height": 34
        },
        "outputId": "e9bf310c-7eaa-473c-fb95-263571a73e29"
      },
      "source": [
        "import os\n",
        "import sys\n",
        "import time\n",
        "from stat import *\n",
        "\n",
        "#Take file name as input\n",
        "file1 = input('Enter File Path Or Name : ')\n",
        "check=os.path.exists(file1)\n",
        "if check == False:\n",
        "\tif sys.argv[1] == '-c':\n",
        "\t\texit()\n",
        "\telse:\n",
        "\t\tf=open(file1,'w+')\n",
        "\t\tf.close()\n",
        "else:\n",
        "\tst = os.stat(file1)\n",
        "\tatime = st[ST_ATIME] #access time\n",
        "\tmtime = st[ST_MTIME] #modification time\n",
        "\tif sys.argv[1] == '-a':\n",
        "\t\tnew_atime = time.time()\n",
        "\t\tos.utime(file1,(new_atime,mtime))\n",
        "\telif sys.argv[1] == '-d':\n",
        "\t\tnew_atime = time.time()\n",
        "\t\tnew_mtime = time.time()\n",
        "\t\tos.utime(file1,(new_atime,new_mtime))\n",
        "\telif sys.argv[1] == '-m':\n",
        "\t\tnew_mtime = time.time()\n",
        "\t\tos.utime(file1,(atime,new_mtime))\n",
        "\telif sys.argv[1] == '-c':\n",
        "\t\tnew_atime = time.time()\n",
        "\t\tnew_mtime = time.time()\n",
        "\t\tos.utime(file1,(new_atime,new_mtime))\n",
        "\telif sys.argv[1] == '-r':\n",
        "\t\tst1 = os.stat(sys.argv[2])\n",
        "\t\tatime1 = st1[ST_ATIME] \n",
        "\t\tmtime1 = st1[ST_MTIME]\n",
        "\t\tos.utime(file1,(atime1,mtime1))\n",
        "\telse:\n",
        "\t\tprint(\"\\n-------------Help-------------\\n-a, change the access time only\\n-c, if the file does not exist, do not create it\\n-d, update the access and modification times\\n-m, change the modification time only\\n-r, use the access and modification times of file\\n\")\n"
      ],
      "execution_count": 2,
      "outputs": [
        {
          "output_type": "stream",
          "text": [
            "Enter File Path Or Name : shivi\n"
          ],
          "name": "stdout"
        }
      ]
    },
    {
      "cell_type": "code",
      "metadata": {
        "id": "9GcG8Iy7aFmu",
        "colab_type": "code",
        "colab": {}
      },
      "source": [
        ""
      ],
      "execution_count": 0,
      "outputs": []
    }
  ]
}