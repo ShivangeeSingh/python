{
  "nbformat": 4,
  "nbformat_minor": 0,
  "metadata": {
    "colab": {
      "name": "User_command",
      "version": "0.3.2",
      "provenance": [],
      "include_colab_link": true
    },
    "kernelspec": {
      "name": "python3",
      "display_name": "Python 3"
    }
  },
  "cells": [
    {
      "cell_type": "markdown",
      "metadata": {
        "id": "view-in-github",
        "colab_type": "text"
      },
      "source": [
        "<a href=\"https://colab.research.google.com/github/ShivangeeSingh/python/blob/master/User_command.ipynb\" target=\"_parent\"><img src=\"https://colab.research.google.com/assets/colab-badge.svg\" alt=\"Open In Colab\"/></a>"
      ]
    },
    {
      "cell_type": "code",
      "metadata": {
        "id": "CCIVCffrbV37",
        "colab_type": "code",
        "colab": {
          "base_uri": "https://localhost:8080/",
          "height": 298
        },
        "outputId": "fbf57c46-3247-4def-ebf4-d9a564a14cc7"
      },
      "source": [
        "import os\n",
        "\n",
        "command = \" \"\n",
        "while (command != \"exit\"):\n",
        "    command =input(\"Command: \")\n",
        "    handle = os.popen(command)\n",
        "    exit_code=os.popen(\"echo $?\")\n",
        "    x=exit_code.read()\n",
        "    print(x)\n",
        "    # f=open(\"a.txt\",\"a\")\n",
        "    if x==0 :\n",
        "        print(\"Ooops sry! Command already exist\")\n",
        "        line =\" \"\n",
        "        while line:\n",
        "            line = handle.read()\n",
        "            print(line)\n",
        "       #     f.write(line+'\\n')\n",
        "    handle.close()\n",
        "    exit_code.close()\n",
        "    # f.close()\n",
        "print(\"Done for today!\")"
      ],
      "execution_count": 1,
      "outputs": [
        {
          "output_type": "stream",
          "text": [
            "Command: hello\n",
            "0\n",
            "\n",
            "Command: hello\n",
            "0\n",
            "\n",
            "Command: hey this is me shivi\n",
            "0\n",
            "\n",
            "Command: okk\n",
            "0\n",
            "\n",
            "Command: exit\n",
            "0\n",
            "\n",
            "Done for today!\n"
          ],
          "name": "stdout"
        }
      ]
    },
    {
      "cell_type": "code",
      "metadata": {
        "id": "GH_ydIiCbvNt",
        "colab_type": "code",
        "colab": {}
      },
      "source": [
        ""
      ],
      "execution_count": 0,
      "outputs": []
    }
  ]
}